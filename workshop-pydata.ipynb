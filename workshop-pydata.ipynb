{
 "cells": [
  {
   "cell_type": "code",
   "execution_count": null,
   "metadata": {},
   "outputs": [],
   "source": [
    "# Downloading the contents of our online repo, \n",
    "# so that we have access to all the code and our dataset!\n",
    "import os\n",
    "\n",
    "# Code specifically for running on Google Colab.\n",
    "# We don't want to run this if the notebook is run locally.\n",
    "if ':/tools/google-cloud-sdk/bin' in os.environ[\"PATH\"]:\n",
    "  !pip install GitPython\n",
    "\n",
    "  import git\n",
    "\n",
    "  repo =  \"https://github.com/heineken-advanced-analytics/great-expectation-workshop-pydata.git\"\n",
    "  repo_folder = os.path.join('/', 'content', \n",
    "                             'great-expectation-workshop-pydata')\n",
    "  \n",
    "  if not os.path.isdir(repo_folder):\n",
    "    git.Git(\".\").clone(repo)\n",
    "    print(\"Successfully downloaded repository\")\n",
    "    \n",
    "  os.chdir(repo_folder)\n",
    "  print(\"Changed working directory to '{}'\".format(repo_folder))"
   ]
  }
 ],
 "metadata": {
  "kernelspec": {
   "display_name": "Python 3",
   "language": "python",
   "name": "python3"
  },
  "language_info": {
   "codemirror_mode": {
    "name": "ipython",
    "version": 3
   },
   "file_extension": ".py",
   "mimetype": "text/x-python",
   "name": "python",
   "nbconvert_exporter": "python",
   "pygments_lexer": "ipython3",
   "version": "3.8.1"
  }
 },
 "nbformat": 4,
 "nbformat_minor": 4
}