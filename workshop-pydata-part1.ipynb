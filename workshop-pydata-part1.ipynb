{
 "cells": [
  {
   "cell_type": "markdown",
   "metadata": {},
   "source": [
    "# Great Expectations: demo part 1\n",
    "\n",
    "Please set yourself up by:\n",
    "- Cloning the git repository from GitHub: https://github.com/heineken-advanced-analytics/great-expectation-workshop-pydata.git.\n",
    "- ```pip install great-expectations```, or if you run into import errors ```pip install great-expectations==0.11.1```.\n",
    "- Navigate to this workshop: ```workshop-pydata-part1.ipynb```.\n",
    "\n",
    "In this part we cover:\n",
    "- Why we need GE: a possible data validation pipeline without GE.\n",
    "- How we can implement a data validation pipeline with GE through its API.\n",
    "- Which expectations are built in and how to use them.\n",
    "- How custom expectations can be implemented."
   ]
  },
  {
   "cell_type": "code",
   "execution_count": 4,
   "metadata": {},
   "outputs": [],
   "source": [
    "from typing import Dict, List\n",
    "import pandas as pd\n",
    "import great_expectations as ge\n",
    "from great_expectations.dataset import MetaPandasDataset, PandasDataset"
   ]
  },
  {
   "cell_type": "markdown",
   "metadata": {},
   "source": [
    "## Why we need Great Expectations\n",
    "\n",
    "A possible validation pipeline without GE.\n",
    "\n",
    "Our validation goal is to:\n",
    "- Construct a validation pipeline that checks the dataset, \n",
    "- potentially other datasets coming in over time,\n",
    "- from a given data schema."
   ]
  },
  {
   "cell_type": "code",
   "execution_count": 5,
   "metadata": {},
   "outputs": [],
   "source": [
    "# We start by loading the file that we want to check.\n",
    "filepath = \"data/weather_brasil_201301.csv\"\n",
    "weather_data_df = pd.read_csv(filepath)"
   ]
  },
  {
   "cell_type": "code",
   "execution_count": 6,
   "metadata": {},
   "outputs": [
    {
     "data": {
      "text/html": [
       "<div>\n",
       "<style scoped>\n",
       "    .dataframe tbody tr th:only-of-type {\n",
       "        vertical-align: middle;\n",
       "    }\n",
       "\n",
       "    .dataframe tbody tr th {\n",
       "        vertical-align: top;\n",
       "    }\n",
       "\n",
       "    .dataframe thead th {\n",
       "        text-align: right;\n",
       "    }\n",
       "</style>\n",
       "<table border=\"1\" class=\"dataframe\">\n",
       "  <thead>\n",
       "    <tr style=\"text-align: right;\">\n",
       "      <th></th>\n",
       "      <th>id</th>\n",
       "      <th>elevation</th>\n",
       "      <th>lat</th>\n",
       "      <th>lon</th>\n",
       "      <th>code</th>\n",
       "      <th>city</th>\n",
       "      <th>timestamp</th>\n",
       "      <th>precip</th>\n",
       "      <th>air_pres</th>\n",
       "      <th>solar_rad</th>\n",
       "      <th>temp</th>\n",
       "      <th>rel_humid</th>\n",
       "      <th>wind_speed</th>\n",
       "    </tr>\n",
       "  </thead>\n",
       "  <tbody>\n",
       "    <tr>\n",
       "      <td>0</td>\n",
       "      <td>178</td>\n",
       "      <td>237.0</td>\n",
       "      <td>-6.835777</td>\n",
       "      <td>-38.311583</td>\n",
       "      <td>A333</td>\n",
       "      <td>São Gonçalo</td>\n",
       "      <td>2013-01-01 00:00:00</td>\n",
       "      <td>NaN</td>\n",
       "      <td>983.1</td>\n",
       "      <td>NaN</td>\n",
       "      <td>30.1</td>\n",
       "      <td>44.0</td>\n",
       "      <td>2.9</td>\n",
       "    </tr>\n",
       "    <tr>\n",
       "      <td>1</td>\n",
       "      <td>178</td>\n",
       "      <td>237.0</td>\n",
       "      <td>-6.835777</td>\n",
       "      <td>-38.311583</td>\n",
       "      <td>A333</td>\n",
       "      <td>São Gonçalo</td>\n",
       "      <td>2013-01-01 01:00:00</td>\n",
       "      <td>NaN</td>\n",
       "      <td>983.4</td>\n",
       "      <td>NaN</td>\n",
       "      <td>30.0</td>\n",
       "      <td>43.0</td>\n",
       "      <td>1.5</td>\n",
       "    </tr>\n",
       "    <tr>\n",
       "      <td>2</td>\n",
       "      <td>178</td>\n",
       "      <td>237.0</td>\n",
       "      <td>-6.835777</td>\n",
       "      <td>-38.311583</td>\n",
       "      <td>A333</td>\n",
       "      <td>São Gonçalo</td>\n",
       "      <td>2013-01-01 02:00:00</td>\n",
       "      <td>NaN</td>\n",
       "      <td>983.5</td>\n",
       "      <td>NaN</td>\n",
       "      <td>30.5</td>\n",
       "      <td>40.0</td>\n",
       "      <td>1.9</td>\n",
       "    </tr>\n",
       "    <tr>\n",
       "      <td>3</td>\n",
       "      <td>178</td>\n",
       "      <td>237.0</td>\n",
       "      <td>-6.835777</td>\n",
       "      <td>-38.311583</td>\n",
       "      <td>A333</td>\n",
       "      <td>São Gonçalo</td>\n",
       "      <td>2013-01-01 03:00:00</td>\n",
       "      <td>NaN</td>\n",
       "      <td>983.9</td>\n",
       "      <td>NaN</td>\n",
       "      <td>29.8</td>\n",
       "      <td>45.0</td>\n",
       "      <td>2.5</td>\n",
       "    </tr>\n",
       "    <tr>\n",
       "      <td>4</td>\n",
       "      <td>178</td>\n",
       "      <td>237.0</td>\n",
       "      <td>-6.835777</td>\n",
       "      <td>-38.311583</td>\n",
       "      <td>A333</td>\n",
       "      <td>São Gonçalo</td>\n",
       "      <td>2013-01-01 04:00:00</td>\n",
       "      <td>NaN</td>\n",
       "      <td>983.8</td>\n",
       "      <td>NaN</td>\n",
       "      <td>28.7</td>\n",
       "      <td>54.0</td>\n",
       "      <td>3.0</td>\n",
       "    </tr>\n",
       "  </tbody>\n",
       "</table>\n",
       "</div>"
      ],
      "text/plain": [
       "    id  elevation       lat        lon  code         city  \\\n",
       "0  178      237.0 -6.835777 -38.311583  A333  São Gonçalo   \n",
       "1  178      237.0 -6.835777 -38.311583  A333  São Gonçalo   \n",
       "2  178      237.0 -6.835777 -38.311583  A333  São Gonçalo   \n",
       "3  178      237.0 -6.835777 -38.311583  A333  São Gonçalo   \n",
       "4  178      237.0 -6.835777 -38.311583  A333  São Gonçalo   \n",
       "\n",
       "             timestamp  precip  air_pres  solar_rad  temp  rel_humid  \\\n",
       "0  2013-01-01 00:00:00     NaN     983.1        NaN  30.1       44.0   \n",
       "1  2013-01-01 01:00:00     NaN     983.4        NaN  30.0       43.0   \n",
       "2  2013-01-01 02:00:00     NaN     983.5        NaN  30.5       40.0   \n",
       "3  2013-01-01 03:00:00     NaN     983.9        NaN  29.8       45.0   \n",
       "4  2013-01-01 04:00:00     NaN     983.8        NaN  28.7       54.0   \n",
       "\n",
       "   wind_speed  \n",
       "0         2.9  \n",
       "1         1.5  \n",
       "2         1.9  \n",
       "3         2.5  \n",
       "4         3.0  "
      ]
     },
     "execution_count": 6,
     "metadata": {},
     "output_type": "execute_result"
    }
   ],
   "source": [
    "# Familiarize with the data\n",
    "weather_data_df.head()"
   ]
  },
  {
   "cell_type": "code",
   "execution_count": 8,
   "metadata": {},
   "outputs": [],
   "source": [
    "# Expectations one ach column, its name and its data type.\n",
    "_schema = [\n",
    "    {\"col_name\": \"id\", \"dtype\": \"int\"},\n",
    "    {\"col_name\": \"elevation\", \"dtype\": \"float\"},\n",
    "    {\"col_name\": \"lat\", \"dtype\": \"float\"},\n",
    "    {\"col_name\": \"lon\", \"dtype\": \"float\"},\n",
    "    {\"col_name\": \"code\", \"dtype\": \"str\"},\n",
    "    {\"col_name\": \"city\", \"dtype\": \"str\"},\n",
    "    {\"col_name\": \"timestamp\", \"dtype\": \"datetime\"},\n",
    "    {\"col_name\": \"precip\", \"dtype\": \"float\"},\n",
    "    {\"col_name\": \"air_pres\", \"float\": \"datetime\"},\n",
    "    {\"col_name\": \"solar_rad\", \"dtype\": \"float\"},\n",
    "    {\"col_name\": \"temp\", \"dtype\": \"float\"},\n",
    "    {\"col_name\": \"rel_humid\", \"dtype\": \"float\"},\n",
    "    {\"col_name\": \"wind_speed\", \"dtype\": \"float\"},\n",
    "]"
   ]
  },
  {
   "cell_type": "code",
   "execution_count": 11,
   "metadata": {},
   "outputs": [],
   "source": [
    "# We could validate this with the function below.\n",
    "def has_ordered_required_columns(df: pd.DataFrame, schema: List[Dict]) -> bool:\n",
    "    \"\"\"\n",
    "    Check if the configured required columns are present in the DataFrame.\n",
    "\n",
    "    Parameters\n",
    "    ----------\n",
    "    df\n",
    "        DataFrame to check.\n",
    "    schema\n",
    "        Dictionary with expected dataframe schema.\n",
    "\n",
    "    Returns\n",
    "    -------\n",
    "        Boolean indicating whether the actual columns correspond to the expected columns.\n",
    "    \"\"\"\n",
    "    required_columns = [schema_item[\"col_name\"] for schema_item in schema]\n",
    "    return df.columns.tolist() == required_columns"
   ]
  },
  {
   "cell_type": "code",
   "execution_count": 19,
   "metadata": {},
   "outputs": [],
   "source": [
    "# The result on our dataframe.\n",
    "validation_result = has_ordered_required_columns(weather_data_df, _schema)"
   ]
  },
  {
   "cell_type": "code",
   "execution_count": 14,
   "metadata": {},
   "outputs": [],
   "source": [
    "# Check function to see if pipeline would continue or break given the validation result.\n",
    "def continue_pipeline(validation_result: bool):\n",
    "    if validation_result:\n",
    "        print(\"Pipeline continues.\")\n",
    "    else:\n",
    "        print(\"Pipeline breaks.\")    "
   ]
  },
  {
   "cell_type": "code",
   "execution_count": 20,
   "metadata": {},
   "outputs": [
    {
     "name": "stdout",
     "output_type": "stream",
     "text": [
      "Pipeline continues.\n"
     ]
    }
   ],
   "source": [
    "continue_pipeline(validation_result)"
   ]
  },
  {
   "cell_type": "code",
   "execution_count": 21,
   "metadata": {},
   "outputs": [],
   "source": [
    "# Now, if a column would be missing.\n",
    "weather_data_df_no_windspeed = weather_data_df.drop(\n",
    "    columns=[\"wind_speed\"]\n",
    ")"
   ]
  },
  {
   "cell_type": "code",
   "execution_count": 22,
   "metadata": {},
   "outputs": [],
   "source": [
    "# The validation will fail and the pipeline will break.\n",
    "validation_result = has_ordered_required_columns(\n",
    "    weather_data_df_no_windspeed, _schema\n",
    ")"
   ]
  },
  {
   "cell_type": "code",
   "execution_count": 23,
   "metadata": {},
   "outputs": [
    {
     "name": "stdout",
     "output_type": "stream",
     "text": [
      "Pipeline breaks.\n"
     ]
    }
   ],
   "source": [
    "continue_pipeline(validation_result)"
   ]
  },
  {
   "cell_type": "markdown",
   "metadata": {},
   "source": [
    "## The downsides\n",
    "\n",
    "A validation pipeline like this however implies the following:\n",
    "- We need to write code for every check we need on a datafile.\n",
    "- which should be tested and maintained.\n",
    "- We need to document the code and tests.\n",
    "\n",
    "Great Expectations helps us to remedy such painpoints."
   ]
  },
  {
   "cell_type": "code",
   "execution_count": 31,
   "metadata": {},
   "outputs": [
    {
     "name": "stdout",
     "output_type": "stream",
     "text": [
      "<class 'great_expectations.dataset.pandas_dataset.PandasDataset'>\n"
     ]
    }
   ],
   "source": [
    "## GE can work with pandas, by extending the pandas DataFrame class\n",
    "weather_data_batch = ge.read_csv(filepath)\n",
    "print(type(weather_data_batch))"
   ]
  },
  {
   "cell_type": "code",
   "execution_count": 25,
   "metadata": {},
   "outputs": [
    {
     "data": {
      "text/html": [
       "<div>\n",
       "<style scoped>\n",
       "    .dataframe tbody tr th:only-of-type {\n",
       "        vertical-align: middle;\n",
       "    }\n",
       "\n",
       "    .dataframe tbody tr th {\n",
       "        vertical-align: top;\n",
       "    }\n",
       "\n",
       "    .dataframe thead th {\n",
       "        text-align: right;\n",
       "    }\n",
       "</style>\n",
       "<table border=\"1\" class=\"dataframe\">\n",
       "  <thead>\n",
       "    <tr style=\"text-align: right;\">\n",
       "      <th></th>\n",
       "      <th>id</th>\n",
       "      <th>elevation</th>\n",
       "      <th>lat</th>\n",
       "      <th>lon</th>\n",
       "      <th>code</th>\n",
       "      <th>city</th>\n",
       "      <th>timestamp</th>\n",
       "      <th>precip</th>\n",
       "      <th>air_pres</th>\n",
       "      <th>solar_rad</th>\n",
       "      <th>temp</th>\n",
       "      <th>rel_humid</th>\n",
       "      <th>wind_speed</th>\n",
       "    </tr>\n",
       "  </thead>\n",
       "  <tbody>\n",
       "    <tr>\n",
       "      <td>0</td>\n",
       "      <td>178</td>\n",
       "      <td>237.0</td>\n",
       "      <td>-6.835777</td>\n",
       "      <td>-38.311583</td>\n",
       "      <td>A333</td>\n",
       "      <td>São Gonçalo</td>\n",
       "      <td>2013-01-01 00:00:00</td>\n",
       "      <td>NaN</td>\n",
       "      <td>983.1</td>\n",
       "      <td>NaN</td>\n",
       "      <td>30.1</td>\n",
       "      <td>44.0</td>\n",
       "      <td>2.9</td>\n",
       "    </tr>\n",
       "    <tr>\n",
       "      <td>1</td>\n",
       "      <td>178</td>\n",
       "      <td>237.0</td>\n",
       "      <td>-6.835777</td>\n",
       "      <td>-38.311583</td>\n",
       "      <td>A333</td>\n",
       "      <td>São Gonçalo</td>\n",
       "      <td>2013-01-01 01:00:00</td>\n",
       "      <td>NaN</td>\n",
       "      <td>983.4</td>\n",
       "      <td>NaN</td>\n",
       "      <td>30.0</td>\n",
       "      <td>43.0</td>\n",
       "      <td>1.5</td>\n",
       "    </tr>\n",
       "    <tr>\n",
       "      <td>2</td>\n",
       "      <td>178</td>\n",
       "      <td>237.0</td>\n",
       "      <td>-6.835777</td>\n",
       "      <td>-38.311583</td>\n",
       "      <td>A333</td>\n",
       "      <td>São Gonçalo</td>\n",
       "      <td>2013-01-01 02:00:00</td>\n",
       "      <td>NaN</td>\n",
       "      <td>983.5</td>\n",
       "      <td>NaN</td>\n",
       "      <td>30.5</td>\n",
       "      <td>40.0</td>\n",
       "      <td>1.9</td>\n",
       "    </tr>\n",
       "    <tr>\n",
       "      <td>3</td>\n",
       "      <td>178</td>\n",
       "      <td>237.0</td>\n",
       "      <td>-6.835777</td>\n",
       "      <td>-38.311583</td>\n",
       "      <td>A333</td>\n",
       "      <td>São Gonçalo</td>\n",
       "      <td>2013-01-01 03:00:00</td>\n",
       "      <td>NaN</td>\n",
       "      <td>983.9</td>\n",
       "      <td>NaN</td>\n",
       "      <td>29.8</td>\n",
       "      <td>45.0</td>\n",
       "      <td>2.5</td>\n",
       "    </tr>\n",
       "    <tr>\n",
       "      <td>4</td>\n",
       "      <td>178</td>\n",
       "      <td>237.0</td>\n",
       "      <td>-6.835777</td>\n",
       "      <td>-38.311583</td>\n",
       "      <td>A333</td>\n",
       "      <td>São Gonçalo</td>\n",
       "      <td>2013-01-01 04:00:00</td>\n",
       "      <td>NaN</td>\n",
       "      <td>983.8</td>\n",
       "      <td>NaN</td>\n",
       "      <td>28.7</td>\n",
       "      <td>54.0</td>\n",
       "      <td>3.0</td>\n",
       "    </tr>\n",
       "  </tbody>\n",
       "</table>\n",
       "</div>"
      ],
      "text/plain": [
       "    id  elevation       lat        lon  code         city  \\\n",
       "0  178      237.0 -6.835777 -38.311583  A333  São Gonçalo   \n",
       "1  178      237.0 -6.835777 -38.311583  A333  São Gonçalo   \n",
       "2  178      237.0 -6.835777 -38.311583  A333  São Gonçalo   \n",
       "3  178      237.0 -6.835777 -38.311583  A333  São Gonçalo   \n",
       "4  178      237.0 -6.835777 -38.311583  A333  São Gonçalo   \n",
       "\n",
       "             timestamp  precip  air_pres  solar_rad  temp  rel_humid  \\\n",
       "0  2013-01-01 00:00:00     NaN     983.1        NaN  30.1       44.0   \n",
       "1  2013-01-01 01:00:00     NaN     983.4        NaN  30.0       43.0   \n",
       "2  2013-01-01 02:00:00     NaN     983.5        NaN  30.5       40.0   \n",
       "3  2013-01-01 03:00:00     NaN     983.9        NaN  29.8       45.0   \n",
       "4  2013-01-01 04:00:00     NaN     983.8        NaN  28.7       54.0   \n",
       "\n",
       "   wind_speed  \n",
       "0         2.9  \n",
       "1         1.5  \n",
       "2         1.9  \n",
       "3         2.5  \n",
       "4         3.0  "
      ]
     },
     "execution_count": 25,
     "metadata": {},
     "output_type": "execute_result"
    }
   ],
   "source": [
    "weather_data_batch.head()"
   ]
  },
  {
   "cell_type": "code",
   "execution_count": 27,
   "metadata": {},
   "outputs": [],
   "source": [
    "# Take the schema again to extract the columns in the expected order.\n",
    "required_columns = [schema_item[\"col_name\"] for schema_item in _schema]"
   ]
  },
  {
   "cell_type": "markdown",
   "metadata": {},
   "source": [
    "Now we can simply attach some built-in expectations of Great Expectations to our dataframe."
   ]
  },
  {
   "cell_type": "code",
   "execution_count": 33,
   "metadata": {},
   "outputs": [],
   "source": [
    "weather_data_batch.expect_table_columns_to_match_ordered_list(\n",
    "    required_columns\n",
    ");"
   ]
  },
  {
   "cell_type": "code",
   "execution_count": 34,
   "metadata": {},
   "outputs": [
    {
     "name": "stdout",
     "output_type": "stream",
     "text": [
      "{\n",
      "  \"statistics\": {\n",
      "    \"evaluated_expectations\": 1,\n",
      "    \"successful_expectations\": 1,\n",
      "    \"unsuccessful_expectations\": 0,\n",
      "    \"success_percent\": 100.0\n",
      "  },\n",
      "  \"meta\": {\n",
      "    \"great_expectations.__version__\": \"0.11.1\",\n",
      "    \"expectation_suite_name\": \"default\",\n",
      "    \"run_id\": {\n",
      "      \"run_time\": \"2020-06-08T21:41:32.246354+00:00\",\n",
      "      \"run_name\": null\n",
      "    },\n",
      "    \"batch_kwargs\": {\n",
      "      \"ge_batch_id\": \"36eee32e-a9d0-11ea-b50a-24ee9ae663af\"\n",
      "    },\n",
      "    \"batch_markers\": {},\n",
      "    \"batch_parameters\": {},\n",
      "    \"validation_time\": \"20200608T214132.246354Z\"\n",
      "  },\n",
      "  \"results\": [\n",
      "    {\n",
      "      \"meta\": {},\n",
      "      \"exception_info\": {\n",
      "        \"raised_exception\": false,\n",
      "        \"exception_message\": null,\n",
      "        \"exception_traceback\": null\n",
      "      },\n",
      "      \"expectation_config\": {\n",
      "        \"kwargs\": {\n",
      "          \"column_list\": [\n",
      "            \"id\",\n",
      "            \"elevation\",\n",
      "            \"lat\",\n",
      "            \"lon\",\n",
      "            \"code\",\n",
      "            \"city\",\n",
      "            \"timestamp\",\n",
      "            \"precip\",\n",
      "            \"air_pres\",\n",
      "            \"solar_rad\",\n",
      "            \"temp\",\n",
      "            \"rel_humid\",\n",
      "            \"wind_speed\"\n",
      "          ],\n",
      "          \"result_format\": \"BASIC\"\n",
      "        },\n",
      "        \"meta\": {},\n",
      "        \"expectation_type\": \"expect_table_columns_to_match_ordered_list\"\n",
      "      },\n",
      "      \"result\": {\n",
      "        \"observed_value\": [\n",
      "          \"id\",\n",
      "          \"elevation\",\n",
      "          \"lat\",\n",
      "          \"lon\",\n",
      "          \"code\",\n",
      "          \"city\",\n",
      "          \"timestamp\",\n",
      "          \"precip\",\n",
      "          \"air_pres\",\n",
      "          \"solar_rad\",\n",
      "          \"temp\",\n",
      "          \"rel_humid\",\n",
      "          \"wind_speed\"\n",
      "        ]\n",
      "      },\n",
      "      \"success\": true\n",
      "    }\n",
      "  ],\n",
      "  \"evaluation_parameters\": {},\n",
      "  \"success\": true\n",
      "}\n"
     ]
    }
   ],
   "source": [
    "# And simply validate the batch against the expectations.\n",
    "validation_result = weather_data_batch.validate()\n",
    "print(validation_result)"
   ]
  },
  {
   "cell_type": "code",
   "execution_count": 42,
   "metadata": {},
   "outputs": [
    {
     "name": "stdout",
     "output_type": "stream",
     "text": [
      "Pipeline continues.\n"
     ]
    }
   ],
   "source": [
    "continue_pipeline(validation_result[\"success\"])"
   ]
  },
  {
   "cell_type": "code",
   "execution_count": 43,
   "metadata": {},
   "outputs": [],
   "source": [
    "weather_data_batch.expect_column_values_to_be_between(\n",
    "    column=\"temp\", min_value=-30, max_value=60\n",
    ");"
   ]
  },
  {
   "cell_type": "markdown",
   "metadata": {},
   "source": [
    "## Try it yourself!\n",
    "\n",
    "- Access the documentation: ```shift-tab``` on ```weather_data_batch.expect_```.\n",
    "- Or have a look at the glossary: https://docs.greatexpectations.io/en/0.11.2/reference/glossary_of_expectations.html#expectation-glossary (share link through chat).\n",
    "- Please share your expectation through the chat!\n",
    "\n",
    "We'll be back in a few minutes."
   ]
  },
  {
   "cell_type": "code",
   "execution_count": 44,
   "metadata": {},
   "outputs": [],
   "source": [
    "# <expectation comes here>"
   ]
  },
  {
   "cell_type": "markdown",
   "metadata": {},
   "source": [
    "## Only those built-in expectations?\n",
    "\n",
    "If we want, we can specify custom logic and add it as an expectation to our batch. \n",
    "\n",
    "We overdid ourselves and created an expectation checking if the given columns hold unique combinations of values."
   ]
  },
  {
   "cell_type": "code",
   "execution_count": 48,
   "metadata": {},
   "outputs": [],
   "source": [
    "class CustomPandasDataset(PandasDataset):\n",
    "    \n",
    "    # setting the _data_asset_type is not required,\n",
    "    # but helps GE interpreting this as a custom expectation.\n",
    "    _data_asset_type = \"CustomPandasDataset\"\n",
    "\n",
    "    @MetaPandasDataset.multicolumn_map_expectation\n",
    "    def expect_columns_combination_to_be_unique(\n",
    "        self, \n",
    "        column_list,\n",
    "        *,\n",
    "        index=None\n",
    "    ):\n",
    "        # A pandas series with a boolean per row is the required output\n",
    "        # for this multicolumn map expectation format.\n",
    "        result = pd.Series()\n",
    "\n",
    "        grouped_df = column_list.groupby(index if index else column_list.columns[0])\n",
    "\n",
    "        for index, group in grouped_df:\n",
    "            if not (group.nunique(axis=0) == 1).all(axis=None):\n",
    "                result = result.append(\n",
    "                    pd.Series([False for x in range(len(group))]), ignore_index=True\n",
    "                )\n",
    "            else:\n",
    "                result = result.append(\n",
    "                    pd.Series([True for x in range(len(group))]), ignore_index=True\n",
    "                )\n",
    "    \n",
    "        return result"
   ]
  },
  {
   "cell_type": "code",
   "execution_count": 49,
   "metadata": {},
   "outputs": [],
   "source": [
    "weather_data_batch = ge.read_csv(filepath, dataset_class=CustomPandasDataset)"
   ]
  },
  {
   "cell_type": "code",
   "execution_count": 50,
   "metadata": {},
   "outputs": [],
   "source": [
    "weather_data_batch.expect_table_columns_to_match_ordered_list(\n",
    "    required_columns\n",
    ");"
   ]
  },
  {
   "cell_type": "code",
   "execution_count": 51,
   "metadata": {},
   "outputs": [],
   "source": [
    "weather_data_batch.expect_column_values_to_be_between(\n",
    "    column=\"temp\", min_value=-30, max_value=60\n",
    ");"
   ]
  },
  {
   "cell_type": "code",
   "execution_count": 52,
   "metadata": {},
   "outputs": [],
   "source": [
    "# We check if a weather station always has the same lat/lon.\n",
    "weather_data_batch.expect_columns_combination_to_be_unique(\n",
    "    [\"id\", \"lat\", \"lon\"]\n",
    ");"
   ]
  },
  {
   "cell_type": "code",
   "execution_count": 53,
   "metadata": {},
   "outputs": [
    {
     "name": "stdout",
     "output_type": "stream",
     "text": [
      "{\n",
      "  \"statistics\": {\n",
      "    \"evaluated_expectations\": 3,\n",
      "    \"successful_expectations\": 3,\n",
      "    \"unsuccessful_expectations\": 0,\n",
      "    \"success_percent\": 100.0\n",
      "  },\n",
      "  \"meta\": {\n",
      "    \"great_expectations.__version__\": \"0.11.1\",\n",
      "    \"expectation_suite_name\": \"default\",\n",
      "    \"run_id\": {\n",
      "      \"run_time\": \"2020-06-08T22:18:44.433165+00:00\",\n",
      "      \"run_name\": null\n",
      "    },\n",
      "    \"batch_kwargs\": {\n",
      "      \"ge_batch_id\": \"99d494b6-a9d5-11ea-9098-24ee9ae663af\"\n",
      "    },\n",
      "    \"batch_markers\": {},\n",
      "    \"batch_parameters\": {},\n",
      "    \"validation_time\": \"20200608T221844.433165Z\"\n",
      "  },\n",
      "  \"results\": [\n",
      "    {\n",
      "      \"meta\": {},\n",
      "      \"exception_info\": {\n",
      "        \"raised_exception\": false,\n",
      "        \"exception_message\": null,\n",
      "        \"exception_traceback\": null\n",
      "      },\n",
      "      \"expectation_config\": {\n",
      "        \"kwargs\": {\n",
      "          \"column_list\": [\n",
      "            \"id\",\n",
      "            \"elevation\",\n",
      "            \"lat\",\n",
      "            \"lon\",\n",
      "            \"code\",\n",
      "            \"city\",\n",
      "            \"timestamp\",\n",
      "            \"precip\",\n",
      "            \"air_pres\",\n",
      "            \"solar_rad\",\n",
      "            \"temp\",\n",
      "            \"rel_humid\",\n",
      "            \"wind_speed\"\n",
      "          ],\n",
      "          \"result_format\": \"BASIC\"\n",
      "        },\n",
      "        \"meta\": {},\n",
      "        \"expectation_type\": \"expect_table_columns_to_match_ordered_list\"\n",
      "      },\n",
      "      \"result\": {\n",
      "        \"observed_value\": [\n",
      "          \"id\",\n",
      "          \"elevation\",\n",
      "          \"lat\",\n",
      "          \"lon\",\n",
      "          \"code\",\n",
      "          \"city\",\n",
      "          \"timestamp\",\n",
      "          \"precip\",\n",
      "          \"air_pres\",\n",
      "          \"solar_rad\",\n",
      "          \"temp\",\n",
      "          \"rel_humid\",\n",
      "          \"wind_speed\"\n",
      "        ]\n",
      "      },\n",
      "      \"success\": true\n",
      "    },\n",
      "    {\n",
      "      \"meta\": {},\n",
      "      \"exception_info\": {\n",
      "        \"raised_exception\": false,\n",
      "        \"exception_message\": null,\n",
      "        \"exception_traceback\": null\n",
      "      },\n",
      "      \"expectation_config\": {\n",
      "        \"kwargs\": {\n",
      "          \"column_list\": [\n",
      "            \"id\",\n",
      "            \"lat\",\n",
      "            \"lon\"\n",
      "          ],\n",
      "          \"result_format\": \"BASIC\"\n",
      "        },\n",
      "        \"meta\": {},\n",
      "        \"expectation_type\": \"expect_columns_combination_to_be_unique\"\n",
      "      },\n",
      "      \"result\": {\n",
      "        \"element_count\": 83328,\n",
      "        \"missing_count\": 0,\n",
      "        \"missing_percent\": 0.0,\n",
      "        \"unexpected_count\": 0,\n",
      "        \"unexpected_percent\": 0.0,\n",
      "        \"unexpected_percent_nonmissing\": 0.0,\n",
      "        \"partial_unexpected_list\": []\n",
      "      },\n",
      "      \"success\": true\n",
      "    },\n",
      "    {\n",
      "      \"meta\": {},\n",
      "      \"exception_info\": {\n",
      "        \"raised_exception\": false,\n",
      "        \"exception_message\": null,\n",
      "        \"exception_traceback\": null\n",
      "      },\n",
      "      \"expectation_config\": {\n",
      "        \"kwargs\": {\n",
      "          \"column\": \"temp\",\n",
      "          \"min_value\": -30,\n",
      "          \"max_value\": 60,\n",
      "          \"result_format\": \"BASIC\"\n",
      "        },\n",
      "        \"meta\": {},\n",
      "        \"expectation_type\": \"expect_column_values_to_be_between\"\n",
      "      },\n",
      "      \"result\": {\n",
      "        \"element_count\": 83328,\n",
      "        \"missing_count\": 0,\n",
      "        \"missing_percent\": 0.0,\n",
      "        \"unexpected_count\": 0,\n",
      "        \"unexpected_percent\": 0.0,\n",
      "        \"unexpected_percent_nonmissing\": 0.0,\n",
      "        \"partial_unexpected_list\": []\n",
      "      },\n",
      "      \"success\": true\n",
      "    }\n",
      "  ],\n",
      "  \"evaluation_parameters\": {},\n",
      "  \"success\": true\n",
      "}\n"
     ]
    }
   ],
   "source": [
    "validation_result = weather_data_batch.validate()\n",
    "# Now we see the custom expectation in this validation result.\n",
    "print(validation_result)"
   ]
  },
  {
   "cell_type": "code",
   "execution_count": 54,
   "metadata": {},
   "outputs": [
    {
     "name": "stdout",
     "output_type": "stream",
     "text": [
      "Pipeline continues.\n"
     ]
    }
   ],
   "source": [
    "continue_pipeline(validation_result[\"success\"])"
   ]
  },
  {
   "cell_type": "code",
   "execution_count": 61,
   "metadata": {},
   "outputs": [],
   "source": [
    "## Let's double check if it works by introducing an error here."
   ]
  },
  {
   "cell_type": "markdown",
   "metadata": {},
   "source": [
    "## So far the basic flow...\n",
    "\n",
    "\n",
    "We have seen:\n",
    "- how we can use Great Expectations to implement built-in expectations, \n",
    "- extend functionality with custom expectations, \n",
    "- run validations against those expectations, and \n",
    "- we inspected the validation output.\n",
    "\n",
    "Unfortuantely, it is not possible to easily validate incoming batches over time, you would need to add these expectations to a batch every time.\n",
    "\n",
    "We also have not demonstrated those **neat automated docs** and **fancy validation reports**.\n",
    "\n",
    "Please stay tuned as in part 2 of this workshop, Joost will demonstrate that through the CLI!"
   ]
  }
 ],
 "metadata": {
  "kernelspec": {
   "display_name": "great-expectations",
   "language": "python",
   "name": "great-expectations"
  },
  "language_info": {
   "codemirror_mode": {
    "name": "ipython",
    "version": 3
   },
   "file_extension": ".py",
   "mimetype": "text/x-python",
   "name": "python",
   "nbconvert_exporter": "python",
   "pygments_lexer": "ipython3",
   "version": "3.7.4"
  }
 },
 "nbformat": 4,
 "nbformat_minor": 4
}
